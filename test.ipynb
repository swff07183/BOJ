{
 "cells": [
  {
   "cell_type": "code",
   "execution_count": 4,
   "metadata": {},
   "outputs": [
    {
     "name": "stdout",
     "output_type": "stream",
     "text": [
      "%EB%B2%94%EC%A3%84%EB%8F%84%EC%8B%9C\n"
     ]
    }
   ],
   "source": [
    "from urllib import parse\n",
    "\n",
    "word = '범죄도시'\n",
    "\n",
    "enc = parse.quote(word)\n",
    "print(enc)\n"
   ]
  }
 ],
 "metadata": {
  "interpreter": {
   "hash": "f914171dfc0bf791e0255334db5908b42f250ca27e3c41cdfb25e5afc6d226fd"
  },
  "kernelspec": {
   "display_name": "Python 3.9.9 64-bit ('3.9.9')",
   "language": "python",
   "name": "python3"
  },
  "language_info": {
   "codemirror_mode": {
    "name": "ipython",
    "version": 3
   },
   "file_extension": ".py",
   "mimetype": "text/x-python",
   "name": "python",
   "nbconvert_exporter": "python",
   "pygments_lexer": "ipython3",
   "version": "3.9.9"
  },
  "orig_nbformat": 4
 },
 "nbformat": 4,
 "nbformat_minor": 2
}
